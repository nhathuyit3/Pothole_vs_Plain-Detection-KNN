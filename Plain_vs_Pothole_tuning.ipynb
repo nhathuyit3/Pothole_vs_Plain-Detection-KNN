{
 "cells": [
  {
   "cell_type": "code",
   "execution_count": null,
   "metadata": {},
   "outputs": [
    {
     "name": "stderr",
     "output_type": "stream",
     "text": [
      "Using TensorFlow backend.\n"
     ]
    },
    {
     "name": "stdout",
     "output_type": "stream",
     "text": [
      "===================================================================================================================================\n",
      "===================================================================================================================================\n",
      "=========================================== RUNNING MODEL =========================================================================\n",
      "==================================================3-denselayer-3-convlayer-64-neuron-1618135718======================================================================\n",
      "===================================================================================================================================\n",
      "===================================================================================================================================\n",
      "WARNING:tensorflow:From C:\\Users\\User\\Anaconda3\\lib\\site-packages\\keras\\backend\\tensorflow_backend.py:4070: The name tf.nn.max_pool is deprecated. Please use tf.nn.max_pool2d instead.\n",
      "\n",
      "WARNING:tensorflow:From C:\\Users\\User\\Anaconda3\\lib\\site-packages\\keras\\backend\\tensorflow_backend.py:422: The name tf.global_variables is deprecated. Please use tf.compat.v1.global_variables instead.\n",
      "\n",
      "Train on 627 samples, validate on 70 samples\n",
      "WARNING:tensorflow:From C:\\Users\\User\\Anaconda3\\lib\\site-packages\\keras\\callbacks\\tensorboard_v1.py:200: The name tf.summary.merge_all is deprecated. Please use tf.compat.v1.summary.merge_all instead.\n",
      "\n",
      "WARNING:tensorflow:From C:\\Users\\User\\Anaconda3\\lib\\site-packages\\keras\\callbacks\\tensorboard_v1.py:203: The name tf.summary.FileWriter is deprecated. Please use tf.compat.v1.summary.FileWriter instead.\n",
      "\n",
      "Epoch 1/8\n",
      "627/627 [==============================] - 4s 6ms/step - loss: 0.6910 - accuracy: 0.5056 - val_loss: 0.6739 - val_accuracy: 0.5857\n",
      "WARNING:tensorflow:From C:\\Users\\User\\Anaconda3\\lib\\site-packages\\keras\\callbacks\\tensorboard_v1.py:343: The name tf.Summary is deprecated. Please use tf.compat.v1.Summary instead.\n",
      "\n",
      "Epoch 2/8\n",
      "627/627 [==============================] - 3s 5ms/step - loss: 0.6309 - accuracy: 0.6459 - val_loss: 0.7059 - val_accuracy: 0.6000\n",
      "Epoch 3/8\n",
      "320/627 [==============>...............] - ETA: 1s - loss: 0.6452 - accuracy: 0.6438"
     ]
    }
   ],
   "source": [
    "import pickle\n",
    "\n",
    "X = pickle.load(open('X.pkl', 'rb'))\n",
    "y = pickle.load(open('y.pkl', 'rb'))\n",
    "\n",
    "X = X/255\n",
    "\n",
    "X = X.reshape(-1, 60, 60, 1)\n",
    "\n",
    "from tensorflow.keras.models import Sequential\n",
    "from tensorflow.keras.layers import Conv2D, MaxPooling2D, Dense, Flatten\n",
    "\n",
    "from keras.callbacks import TensorBoard\n",
    "import time\n",
    "\n",
    "dense_layers = [3]\n",
    "conv_layers = [3]\n",
    "neurons = [64]\n",
    "\n",
    "\n",
    "for dense_layer in dense_layers:\n",
    "\tfor conv_layer in conv_layers:\n",
    "\t\tfor neuron in neurons:\n",
    "\n",
    "\t\t\tNAME = '{}-denselayer-{}-convlayer-{}-neuron-{}'.format(dense_layer, conv_layer, neuron, int(time.time()))\n",
    "\t\t\ttensorboard = TensorBoard(log_dir = 'logs2\\\\{}'.format(NAME))\n",
    "\n",
    "\n",
    "\t\t\tmodel = Sequential()\n",
    "\n",
    "\t\t\tfor l in range(conv_layer):\n",
    "\t\t\t\tmodel.add(Conv2D(neuron, (3,3), activation = 'relu'))\n",
    "\t\t\t\tmodel.add(MaxPooling2D((2,2)))\n",
    "\n",
    "\t\t\tmodel.add(Flatten())\n",
    "\n",
    "\t\t\tmodel.add(Dense(neuron, input_shape = X.shape[1:], activation = 'relu'))\n",
    "\n",
    "\t\t\tfor l in range(dense_layer - 1):\n",
    "\t\t\t\tmodel.add(Dense(neuron, activation = 'relu'))\n",
    "\n",
    "\t\t\tmodel.add(Dense(2, activation = 'softmax'))\n",
    "\n",
    "\t\t\tmodel.compile(optimizer='adam',\n",
    "\t\t\t              loss='sparse_categorical_crossentropy',\n",
    "\t\t\t              metrics=['accuracy'])\n",
    "\n",
    "\t\t\tprint('===================================================================================================================================')\n",
    "\t\t\tprint('===================================================================================================================================')\n",
    "\t\t\tprint('=========================================== RUNNING MODEL =========================================================================')\n",
    "\t\t\tprint('=================================================='+ NAME + '======================================================================')\n",
    "\t\t\tprint('===================================================================================================================================')\n",
    "\t\t\tprint('===================================================================================================================================')\n",
    "\n",
    "\t\t\tmodel.fit(X, y, epochs=8, batch_size = 32, validation_split=0.1, callbacks = [tensorboard])\n",
    "\n",
    "\t\t\tmodel.save('3x3x64-plainvspothole.model')"
   ]
  },
  {
   "cell_type": "code",
   "execution_count": null,
   "metadata": {},
   "outputs": [],
   "source": []
  }
 ],
 "metadata": {
  "kernelspec": {
   "display_name": "Python 3",
   "language": "python",
   "name": "python3"
  },
  "language_info": {
   "codemirror_mode": {
    "name": "ipython",
    "version": 3
   },
   "file_extension": ".py",
   "mimetype": "text/x-python",
   "name": "python",
   "nbconvert_exporter": "python",
   "pygments_lexer": "ipython3",
   "version": "3.7.3"
  }
 },
 "nbformat": 4,
 "nbformat_minor": 2
}
